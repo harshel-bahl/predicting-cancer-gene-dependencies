{
 "cells": [
  {
   "cell_type": "code",
   "execution_count": 1,
   "metadata": {},
   "outputs": [],
   "source": [
    "import pickle\n",
    "import numpy as np\n",
    "import pandas as pd\n",
    "import keras\n",
    "import tensorflow\n",
    "from keras import models\n",
    "from keras.layers import Dense, Concatenate\n",
    "from keras.callbacks import EarlyStopping\n",
    "from keras.regularizers import l2\n",
    "import time\n",
    "import os\n",
    "import sys\n",
    "import CNN_functions as CNNFuncs"
   ]
  },
  {
   "cell_type": "code",
   "execution_count": null,
   "metadata": {},
   "outputs": [],
   "source": [
    "test_size = 0.2\n",
    "random_state = 1\n",
    "model_mode = \"depmap\"\n",
    "GOIs_mode = \"top100\"\n",
    "extract_genes_no = 10000\n",
    "extract_neg_selec = False"
   ]
  },
  {
   "cell_type": "code",
   "execution_count": null,
   "metadata": {},
   "outputs": [],
   "source": [
    "model_datasets, tRCC_datasets, essential_genes = CNNFuncs.preprocess_data(test_size=test_size, \n",
    "                                                     random_state=random_state, \n",
    "                                                     mode=model_mode, \n",
    "                                                     extract_top_genes=extract_genes_no, \n",
    "                                                     extract_neg_selec=extract_neg_selec)\n",
    "\n",
    "X_train = model_datasets[0]\n",
    "Y_train = model_datasets[2]\n",
    "\n",
    "X_test = model_datasets[1]\n",
    "Y_test = model_datasets[3]\n",
    "\n",
    "tRCC_gene_exp = tRCC_datasets[0]\n",
    "tRCC_gene_effect = tRCC_datasets[1]\n",
    "\n",
    "top100_essential_genes = essential_genes[\"top100_essential_genes\"]\n",
    "top_common_essential_genes = essential_genes[\"common_essential_genes\"]"
   ]
  },
  {
   "cell_type": "code",
   "execution_count": 6,
   "metadata": {},
   "outputs": [
    {
     "name": "stdout",
     "output_type": "stream",
     "text": [
      "Model: \"sequential\"\n",
      "_________________________________________________________________\n",
      " Layer (type)                Output Shape              Param #   \n",
      "=================================================================\n",
      " dense (Dense)               (None, 500)               5001500   \n",
      "                                                                 \n",
      " dense_1 (Dense)             (None, 200)               100200    \n",
      "                                                                 \n",
      " dense_2 (Dense)             (None, 50)                10050     \n",
      "                                                                 \n",
      " dense_3 (Dense)             (None, 250)               12750     \n",
      "                                                                 \n",
      " dense_4 (Dense)             (None, 250)               62750     \n",
      "                                                                 \n",
      " dense_5 (Dense)             (None, 10002)             2510502   \n",
      "                                                                 \n",
      "=================================================================\n",
      "Total params: 7697752 (29.36 MB)\n",
      "Trainable params: 7697752 (29.36 MB)\n",
      "Non-trainable params: 0 (0.00 Byte)\n",
      "_________________________________________________________________\n"
     ]
    }
   ],
   "source": [
    "model = models.load_model(\"models/depmap/depmap_model1.h5\")\n",
    "model.summary()"
   ]
  }
 ],
 "metadata": {
  "kernelspec": {
   "display_name": "Python 3",
   "language": "python",
   "name": "python3"
  },
  "language_info": {
   "codemirror_mode": {
    "name": "ipython",
    "version": 3
   },
   "file_extension": ".py",
   "mimetype": "text/x-python",
   "name": "python",
   "nbconvert_exporter": "python",
   "pygments_lexer": "ipython3",
   "version": "3.9.6"
  }
 },
 "nbformat": 4,
 "nbformat_minor": 2
}
