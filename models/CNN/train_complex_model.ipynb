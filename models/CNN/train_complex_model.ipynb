{
 "cells": [
  {
   "cell_type": "code",
   "execution_count": null,
   "metadata": {},
   "outputs": [],
   "source": [
    "import pickle\n",
    "import numpy as np\n",
    "import pandas as pd\n",
    "from keras import models\n",
    "from keras.layers import Dense, Concatenate, Dropout, BatchNormalization\n",
    "from keras.callbacks import EarlyStopping\n",
    "from keras.regularizers import l2\n",
    "import time\n",
    "import os\n",
    "import sys\n",
    "import CNN_functions as CNNFuncs"
   ]
  },
  {
   "cell_type": "code",
   "execution_count": null,
   "metadata": {},
   "outputs": [],
   "source": [
    "# X_train, Y_train, X_test, Y_test = CNNFuncs.create_model_datasets(X_train=X_train, Y_train=Y_train, X_test=X_test, Y_test=Y_test, GOIs= top_common_essential_genes if GOIs_mode == \"top_common\" else top100_essential_genes)"
   ]
  },
  {
   "cell_type": "code",
   "execution_count": null,
   "metadata": {},
   "outputs": [],
   "source": [
    "CNNFuncs.restructure_predictions(predictions, top_common_essential_genes if GOIs_mode == \"top_common\" else top100_essential_genes, indexes= datasets[3].index)"
   ]
  },
  {
   "cell_type": "code",
   "execution_count": null,
   "metadata": {},
   "outputs": [],
   "source": [
    "CNNFuncs.restructure_predictions(Y_test.to_numpy(), top_common_essential_genes if GOIs_mode == \"top_common\" else top100_essential_genes, indexes= datasets[3].index)"
   ]
  }
 ],
 "metadata": {
  "language_info": {
   "name": "python"
  }
 },
 "nbformat": 4,
 "nbformat_minor": 2
}
