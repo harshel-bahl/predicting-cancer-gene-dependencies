{
 "cells": [
  {
   "cell_type": "code",
   "execution_count": null,
   "metadata": {},
   "outputs": [],
   "source": [
    "import pickle\n",
    "import numpy as np\n",
    "import pandas as pd\n",
    "from keras import models\n",
    "from keras.layers import Dense, Concatenate, Dropout, BatchNormalization\n",
    "from keras.callbacks import EarlyStopping\n",
    "from keras.regularizers import l2\n",
    "import time\n",
    "import os\n",
    "import sys\n",
    "import CNN_functions as CNNFuncs"
   ]
  },
  {
   "cell_type": "code",
   "execution_count": null,
   "metadata": {},
   "outputs": [],
   "source": [
    "### Dataset Parameters\n",
    "######################\n",
    "test_size = 0.2\n",
    "random_state = 1\n",
    "model_mode = \"RCC\"\n",
    "GOIs_mode = \"top100\"\n",
    "extract_genes_no = 8000\n",
    "extract_neg_selec = False\n",
    "\n",
    "### Model Parameters\n",
    "####################\n",
    "activation_func = 'relu' \n",
    "activation_func2 = 'linear'\n",
    "kernel_initializer = 'he_uniform'\n",
    "dense_layer_dim = 500\n",
    "l2_reg = None\n",
    "batch_size = 250\n",
    "num_epoch = 300\n"
   ]
  },
  {
   "cell_type": "code",
   "execution_count": null,
   "metadata": {},
   "outputs": [],
   "source": [
    "model_datasets, tRCC_datasets, essential_genes = CNNFuncs.preprocess_data(test_size=test_size,\n",
    "                                                                          random_state=random_state,\n",
    "                                                                          mode=model_mode,\n",
    "                                                                          extract_top_genes=extract_genes_no,\n",
    "                                                                          extract_neg_selec=extract_neg_selec)\n",
    "\n",
    "X_train = model_datasets[0]\n",
    "Y_train = model_datasets[2]\n",
    "\n",
    "X_test = model_datasets[1]\n",
    "Y_test = model_datasets[3]\n",
    "\n",
    "tRCC_gene_exp = tRCC_datasets[0]\n",
    "tRCC_gene_effect = tRCC_datasets[1]\n",
    "\n",
    "top100_essential_genes = essential_genes[\"top100_essential_genes\"]\n",
    "top_common_essential_genes = essential_genes[\"common_essential_genes\"]"
   ]
  },
  {
   "cell_type": "code",
   "execution_count": null,
   "metadata": {},
   "outputs": [],
   "source": [
    "model = models.Sequential()\n",
    "model.add(Dense(500, input_dim=X_train.shape[1], activation=activation_func, kernel_initializer=kernel_initializer, kernel_regularizer=l2(l2_reg) if l2_reg != None else None))\n",
    "model.add(Dense(300, activation=activation_func, kernel_initializer=kernel_initializer, kernel_regularizer=l2(l2_reg) if l2_reg != None else None))\n",
    "model.add(Dense(150, activation=activation_func, kernel_initializer=kernel_initializer, kernel_regularizer=l2(l2_reg) if l2_reg != None else None))\n",
    "model.add(Dense(75, activation=activation_func, kernel_initializer=kernel_initializer, kernel_regularizer=l2(l2_reg) if l2_reg != None else None))\n",
    "model.add(Dense(dense_layer_dim, activation=activation_func, kernel_initializer=kernel_initializer, kernel_regularizer=l2(l2_reg) if l2_reg != None else None))\n",
    "model.add(Dense(dense_layer_dim, activation=activation_func, kernel_initializer=kernel_initializer, kernel_regularizer=l2(l2_reg) if l2_reg != None else None))\n",
    "model.add(Dense(dense_layer_dim, activation=activation_func, kernel_initializer=kernel_initializer, kernel_regularizer=l2(l2_reg) if l2_reg != None else None))\n",
    "model.add(Dense(dense_layer_dim, activation=activation_func, kernel_initializer=kernel_initializer, kernel_regularizer=l2(l2_reg) if l2_reg != None else None))\n",
    "model.add(Dense(Y_train.shape[1], activation=activation_func2, kernel_initializer=kernel_initializer, kernel_regularizer=l2(l2_reg) if l2_reg != None else None))\n",
    "\n",
    "model.compile(loss='mse', optimizer='adam') \n",
    "\n",
    "t = time.time()\n",
    "\n",
    "early_stopping_callback = EarlyStopping(monitor='val_loss', min_delta=0, patience=5, verbose=0, mode='min')\n",
    "history = model.fit(X_train, Y_train, epochs=num_epoch, validation_split=1/9, batch_size=batch_size, shuffle=True, callbacks=[early_stopping_callback])\n",
    "\n",
    "cost_testing = model.evaluate(X_test, Y_test, verbose=0, batch_size=batch_size)\n",
    "\n",
    "loss = history.history['loss'][-1]\n",
    "val_loss = history.history['val_loss'][-1]\n",
    "\n",
    "print(\"\\n\\nModel training completed in %.1f mins.\\nloss:%.4f valloss:%.4f testloss:%.4f\" % ((time.time() - t)/60, loss, val_loss, cost_testing))"
   ]
  },
  {
   "cell_type": "code",
   "execution_count": null,
   "metadata": {},
   "outputs": [],
   "source": [
    "predictions = pd.DataFrame(model.predict(X_test), columns=X_test.columns, index=X_test.index)"
   ]
  },
  {
   "cell_type": "code",
   "execution_count": null,
   "metadata": {},
   "outputs": [],
   "source": [
    "CNNFuncs.GeneRelMiniPlot(X_test, Y_test, top100_essential_genes[:30].to_list(),\n",
    "                         rel2_X=X_test,\n",
    "                         rel2_Y=predictions,\n",
    "                         main_title=\"CNN-trained Model Predictions on {0} CCL Test Dataset (num_epochs={1}, num_samples={3}, num_features={2})\".format(model_mode, num_epoch, X_train.shape[1], X_train.shape[0]),\n",
    "                         axes_labels=[\"Gene Expression\", \"Gene Effect Score\"],\n",
    "                         axis_label_fontsize=9.75,\n",
    "                         legend_titles={\"rel1\": \"Testing CCL\", \"rel2\": \"Testing CCL Prediction\"},\n",
    "                                        sizeProps=[0.925, 0.08, 0.99, 0],\n",
    "                                        wspace=0.35,\n",
    "                                        hspace=0.55)"
   ]
  },
  {
   "cell_type": "code",
   "execution_count": null,
   "metadata": {},
   "outputs": [],
   "source": [
    "pred_RMSE_top100_essential_genes = CNNFuncs.PredGeneRMSE(Y_test, predictions, top100_essential_genes)"
   ]
  },
  {
   "cell_type": "code",
   "execution_count": null,
   "metadata": {},
   "outputs": [],
   "source": [
    "CNNFuncs.LinePlot(pred_RMSE_top100_essential_genes, \n",
    "            {\"RMSE\": \"red\"}, \n",
    "            axes_labels=[\"Top 100 Essential Genes\", \n",
    "                         \"Root Mean Squared Error\"], \n",
    "            main_title=\"CNN-trained Model RMSE on {0} CCL Test Dataset (num_epochs={1}, num_samples={3}, num_features={2})\".format(model_mode, num_epoch, X_train.shape[1], X_train.shape[0]),\n",
    "            legend_titles={\"RMSE\": \"{0} Testing RMSE\".format(model_mode)})"
   ]
  },
  {
   "cell_type": "code",
   "execution_count": null,
   "metadata": {},
   "outputs": [],
   "source": [
    "print(\"Average RMSE for predicted gene effect scores on testing subset of CCLs: {0:.4}\".format(pred_RMSE_top100_essential_genes[\"RMSE\"].mean()))"
   ]
  },
  {
   "cell_type": "code",
   "execution_count": null,
   "metadata": {},
   "outputs": [],
   "source": [
    "save_bool = input(\"Save Model? y/n: \")\n",
    "\n",
    "if save_bool == \"y\":\n",
    "    \n",
    "    model_name = input(\"Model Name: \")\n",
    "\n",
    "    if os.path.exists(\"models/{0}/{1}\".format(model_mode, model_name)):\n",
    "        raise ValueError(\"model already exists\")\n",
    "    \n",
    "    os.mkdir(\"models/{0}/{1}\".format(model_mode, model_name))\n",
    "\n",
    "    model.save(\"models/{0}/{1}/model.h5\".format(model_mode, model_name))\n",
    "    print(\"saved model to {0}\".format(\"models/{0}/{1}/model.h5\".format(model_mode, model_name)))\n",
    "\n",
    "    model_info = {\"test_size\": test_size,\n",
    "                  \"random_state\": random_state,\n",
    "                  \"model_mode\": model_mode,\n",
    "                  \"extract_genes_no\": extract_genes_no,\n",
    "                  \"extract_neg_selec\": extract_neg_selec,\n",
    "                  \"dense_layer_dim\": dense_layer_dim,\n",
    "                  \"l2_reg\": l2_reg,\n",
    "                  \"num_epoch\": num_epoch}\n",
    "    \n",
    "    pd.DataFrame.from_dict(model_info, orient='index').to_csv(\"models/{0}/{1}/model_info.csv\".format(model_mode, model_name))"
   ]
  }
 ],
 "metadata": {
  "kernelspec": {
   "display_name": "Python 3",
   "language": "python",
   "name": "python3"
  },
  "language_info": {
   "codemirror_mode": {
    "name": "ipython",
    "version": 3
   },
   "file_extension": ".py",
   "mimetype": "text/x-python",
   "name": "python",
   "nbconvert_exporter": "python",
   "pygments_lexer": "ipython3",
   "version": "3.9.6"
  }
 },
 "nbformat": 4,
 "nbformat_minor": 2
}
